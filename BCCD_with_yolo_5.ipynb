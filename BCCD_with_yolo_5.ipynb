{
  "nbformat": 4,
  "nbformat_minor": 0,
  "metadata": {
    "kernelspec": {
      "language": "python",
      "display_name": "Python 3",
      "name": "python3"
    },
    "language_info": {
      "name": "python",
      "version": "3.7.10",
      "mimetype": "text/x-python",
      "codemirror_mode": {
        "name": "ipython",
        "version": 3
      },
      "pygments_lexer": "ipython3",
      "nbconvert_exporter": "python",
      "file_extension": ".py"
    },
    "colab": {
      "name": "BCCD_with_yolo_5.ipynb",
      "provenance": [],
      "collapsed_sections": []
    },
    "accelerator": "GPU"
  },
  "cells": [
    {
      "cell_type": "code",
      "metadata": {
        "colab": {
          "base_uri": "https://localhost:8080/"
        },
        "id": "GomTMbbhz6Cw",
        "outputId": "b8568bc9-f969-493d-988c-3dd728f28244"
      },
      "source": [
        "from google.colab import drive\n",
        "drive.mount('/content/gdrive',force_remount=True)"
      ],
      "execution_count": 1,
      "outputs": [
        {
          "output_type": "stream",
          "text": [
            "Mounted at /content/gdrive\n"
          ],
          "name": "stdout"
        }
      ]
    },
    {
      "cell_type": "code",
      "metadata": {
        "id": "2QqJg-xk0CON"
      },
      "source": [
        "!unzip /content/gdrive/MyDrive/Yolo/BCCD/BCCD.zip"
      ],
      "execution_count": null,
      "outputs": []
    },
    {
      "cell_type": "code",
      "metadata": {
        "id": "C27BhO1K6CxD"
      },
      "source": [
        "import os, shutil \n",
        "os.rename('/content/BCCD_Dataset-master', '/content/BCCD_Dataset')"
      ],
      "execution_count": 3,
      "outputs": []
    },
    {
      "cell_type": "code",
      "metadata": {
        "id": "-wZ3qzPuZMYS"
      },
      "source": [
        "# Create a dataset\n",
        "os.mkdir('/content/Dataset/')"
      ],
      "execution_count": 4,
      "outputs": []
    },
    {
      "cell_type": "markdown",
      "metadata": {
        "id": "hJXuLsbN6Ybm"
      },
      "source": [
        "--"
      ]
    },
    {
      "cell_type": "markdown",
      "metadata": {
        "id": "lhnfz0O0do08"
      },
      "source": [
        "Import packages"
      ]
    },
    {
      "cell_type": "code",
      "metadata": {
        "_uuid": "8f2839f25d086af736a60e9eeb907d3b93b6e0e5",
        "_cell_guid": "b1076dfc-b9ad-4769-8c92-a6c4dae69d19",
        "execution": {
          "iopub.status.busy": "2021-08-17T08:44:17.953667Z",
          "iopub.execute_input": "2021-08-17T08:44:17.954232Z",
          "iopub.status.idle": "2021-08-17T08:44:19.131092Z",
          "shell.execute_reply.started": "2021-08-17T08:44:17.954168Z",
          "shell.execute_reply": "2021-08-17T08:44:19.129933Z"
        },
        "trusted": true,
        "id": "QwgkiSnAaNLp"
      },
      "source": [
        "# Linear Algebra\n",
        "import numpy as np\n",
        "\n",
        "# File Handling\n",
        "import os\n",
        "import shutil\n",
        "import xml.etree.ElementTree as ET\n",
        "   \n",
        "# Free memory\n",
        "import gc\n",
        "\n",
        "# Image processing libraries\n",
        "from PIL import Image\n",
        "import matplotlib.pyplot as plt"
      ],
      "execution_count": 5,
      "outputs": []
    },
    {
      "cell_type": "code",
      "metadata": {
        "execution": {
          "iopub.status.busy": "2021-08-17T08:44:19.137402Z",
          "iopub.execute_input": "2021-08-17T08:44:19.137895Z",
          "iopub.status.idle": "2021-08-17T08:44:19.143843Z",
          "shell.execute_reply.started": "2021-08-17T08:44:19.137835Z",
          "shell.execute_reply": "2021-08-17T08:44:19.142299Z"
        },
        "trusted": true,
        "id": "IhASPNNdaNLv"
      },
      "source": [
        "# Variables\n",
        "str_Input_folder_Path = '/content/BCCD_Dataset/'\n",
        "str_Files_Split_Info_Path = str_Input_folder_Path + 'BCCD/ImageSets/Main/'\n",
        "str_Images_Path =  str_Input_folder_Path + 'BCCD/JPEGImages/'\n",
        "str_Annotations_Path = str_Input_folder_Path + 'BCCD/Annotations/'\n",
        "str_Yolo_Annotations_Path = str_Input_folder_Path + 'AnnotLabels/'\n",
        "\n",
        "# Base Location for our Image and Annotation files\n",
        "str_Destination_Path = '/content/Dataset/'\n",
        "str_Destination_Images_Path = str_Destination_Path + 'images/'\n",
        "str_Destination_Labels_Path = str_Destination_Path + 'labels/'\n",
        "\n",
        "classes = [ 'RBC', 'WBC', 'Platelets']"
      ],
      "execution_count": 6,
      "outputs": []
    },
    {
      "cell_type": "markdown",
      "metadata": {
        "id": "gpOyZGpRdgv4"
      },
      "source": [
        "--"
      ]
    },
    {
      "cell_type": "markdown",
      "metadata": {
        "id": "voqeUXSOdhsN"
      },
      "source": [
        "Create folder structure required by Yolo5"
      ]
    },
    {
      "cell_type": "code",
      "metadata": {
        "id": "dgsNVElvaA_n"
      },
      "source": [
        "# Check if directory exists and if not, create it and the child directories\n",
        "if not(os.path.isdir(str_Destination_Images_Path)):\n",
        "    os.mkdir(str_Destination_Images_Path)    \n",
        "    # Child directories\n",
        "    os.mkdir(str_Destination_Images_Path + '/train')\n",
        "    os.mkdir(str_Destination_Images_Path + '/val')\n",
        "    os.mkdir(str_Destination_Images_Path + '/test')\n",
        "        \n",
        "# Check if directory exists and if not, create it and the child directories\n",
        "if not(os.path.isdir(str_Destination_Labels_Path)):\n",
        "    os.mkdir(str_Destination_Labels_Path)    \n",
        "    # Child directories\n",
        "    os.mkdir(str_Destination_Labels_Path + '/train')\n",
        "    os.mkdir(str_Destination_Labels_Path + '/val') \n",
        "    os.mkdir(str_Destination_Labels_Path + '/test')"
      ],
      "execution_count": 7,
      "outputs": []
    },
    {
      "cell_type": "markdown",
      "metadata": {
        "id": "Zo0EoKwJdcCv"
      },
      "source": [
        "--"
      ]
    },
    {
      "cell_type": "markdown",
      "metadata": {
        "id": "DryjFKh0dYJD"
      },
      "source": [
        "Create Annotation file in the format Yolo5 requires"
      ]
    },
    {
      "cell_type": "code",
      "metadata": {
        "id": "bBVH0z80dtsa"
      },
      "source": [
        "def yolo_format(width, height, box):\n",
        "\n",
        "    # x1 = 'x' upper-left; y1 = 'y' upper-left; x2 = 'x' lower-right; y2 = 'y' lower-right; \n",
        "    x1 = int(box[0])\n",
        "    y1 = int(box[1])\n",
        "    x2 = int(box[2])\n",
        "    y2 = int(box[3])\n",
        "\n",
        "    # Need to normalize values\n",
        "    dw = np.float32(1. / int(width))\n",
        "    dh = np.float32(1. / int(height))\n",
        "\n",
        "    # Get the center coordinates\n",
        "    w = x2 - x1\n",
        "    h = y2 - y1\n",
        "    x = x1 + (w / 2)\n",
        "    y = y1 + (h / 2)\n",
        "\n",
        "    # Normalize data\n",
        "    x = x * dw\n",
        "    w = w * dw\n",
        "    y = y * dh\n",
        "    h = h * dh\n",
        "    return x, y, w, h"
      ],
      "execution_count": 8,
      "outputs": []
    },
    {
      "cell_type": "code",
      "metadata": {
        "id": "vgD7C3YMOSV_"
      },
      "source": [
        "# Convert Annotations from VOC to Yolo5 format and save the files\n",
        "def create_annotations(InputFile, DestPath):\n",
        "  str_File_Contents = ET.parse(InputFile)\n",
        "\n",
        "  # Check if directory exists and if not, create it and the child directories\n",
        "  if not(os.path.isdir(DestPath)):\n",
        "    os.mkdir(DestPath)  \n",
        "\n",
        "  # Get the root element\n",
        "  root = str_File_Contents.getroot()\n",
        "  \n",
        "  # Element 1 is Filename and we want the filename without the extension as we will add one\n",
        "  str_File_Name = root[1].text[:-4]+ \".txt\"  \n",
        "\n",
        "  # Element 4 is size and it has Width and Depth\n",
        "  str_Img_width = root[4][0].text            \n",
        "  str_Img_Height = root[4][1].text\n",
        "\n",
        "  # Loop through all 'Object' element. This has inputs on classes and bouding box co-ordinates\n",
        "  lstAnnot = []\n",
        "  for info in root.findall('object'):\n",
        "    img_class = info[0].text\n",
        "    x1 = info[4][0].text\n",
        "    y1 = info[4][1].text\n",
        "    x2 = info[4][2].text\n",
        "    y2 = info[4][3].text\n",
        "    lstAnnot.append([img_class, x1, y1, x2, y2])\n",
        "\n",
        "  # Save the annotation text file\n",
        "  str_Dest_Path = DestPath + str_File_Name\n",
        "  strFile = open(str_Dest_Path, \"a+\")\n",
        "  for box in lstAnnot:\n",
        "    cls = classes.index(box[0])\n",
        "    x,y,w,h = yolo_format(str_Img_width, str_Img_Height, box[1:])\n",
        "    strFile.write(f\"{cls} {x} {y} {w} {h}\\n\")\n",
        "\n",
        "  strFile.flush()\n",
        "  strFile.close() "
      ],
      "execution_count": 9,
      "outputs": []
    },
    {
      "cell_type": "code",
      "metadata": {
        "id": "Eohxl05qOTOB"
      },
      "source": [
        "for annotfile in os.listdir(str_Annotations_Path):\n",
        "  create_annotations(str_Annotations_Path + annotfile,str_Yolo_Annotations_Path)"
      ],
      "execution_count": 10,
      "outputs": []
    },
    {
      "cell_type": "code",
      "metadata": {
        "id": "oBj8YfY_nPfG",
        "colab": {
          "base_uri": "https://localhost:8080/"
        },
        "outputId": "42768390-12d4-44d3-97aa-fa7b7d96bfe9"
      },
      "source": [
        "# Check if we have processed all annotation files in source folder and in the destination folder\n",
        "len(os.listdir(str_Annotations_Path)) == len(os.listdir(str_Yolo_Annotations_Path))"
      ],
      "execution_count": 11,
      "outputs": [
        {
          "output_type": "execute_result",
          "data": {
            "text/plain": [
              "True"
            ]
          },
          "metadata": {},
          "execution_count": 11
        }
      ]
    },
    {
      "cell_type": "markdown",
      "metadata": {
        "id": "wCwgH-AWmZpY"
      },
      "source": [
        "--"
      ]
    },
    {
      "cell_type": "markdown",
      "metadata": {
        "id": "MZGmrtBdmdsj"
      },
      "source": [
        "Move the 'Train', 'Valid' and 'Test' images and annotations, to respectieg folders"
      ]
    },
    {
      "cell_type": "code",
      "metadata": {
        "id": "5mkwpuN0OTQ8",
        "colab": {
          "base_uri": "https://localhost:8080/"
        },
        "outputId": "b9842ec9-4a7b-413a-eda2-e199be64b6be"
      },
      "source": [
        "# Use the 'splits' and move respective image and annotations to right folder\n",
        "for fil in os.listdir(str_Files_Split_Info_Path):\n",
        "  if 'trainval' in fil:\n",
        "    pass\n",
        "    \n",
        "  elif 'train' in fil:\n",
        "    print('Working on the train file: ', str_Files_Split_Info_Path + fil)\n",
        "    with open(str_Files_Split_Info_Path + fil, 'r') as input_file:\n",
        "      for current_file in input_file:\n",
        "        shutil.copy(str_Images_Path + current_file.strip() + '.jpg', str_Destination_Images_Path + 'train/' )\n",
        "        shutil.copy(str_Yolo_Annotations_Path + current_file.strip()  + '.txt', str_Destination_Labels_Path + 'train/' )\n",
        "\n",
        "  elif 'val' in fil:\n",
        "    print('Working on the validation file: ', str_Files_Split_Info_Path + fil)\n",
        "    with open(str_Files_Split_Info_Path + fil, 'r') as input_file:\n",
        "      for current_file in input_file:\n",
        "        shutil.copy(str_Images_Path + current_file.strip() + '.jpg', str_Destination_Images_Path + 'val/' )\n",
        "        shutil.copy(str_Yolo_Annotations_Path + current_file.strip() + '.txt', str_Destination_Labels_Path + 'val/' )\n",
        "\n",
        "  elif 'test' in fil:\n",
        "    print('Working on the test file: ', str_Files_Split_Info_Path + fil)\n",
        "    with open(str_Files_Split_Info_Path + fil, 'r') as input_file:\n",
        "      for current_file in input_file:\n",
        "        shutil.copy(str_Images_Path + current_file.strip() + '.jpg', str_Destination_Images_Path + 'test/' )\n",
        "        shutil.copy(str_Yolo_Annotations_Path + current_file.strip() + '.txt', str_Destination_Labels_Path + 'test/' )\n"
      ],
      "execution_count": 12,
      "outputs": [
        {
          "output_type": "stream",
          "text": [
            "Working on the test file:  /content/BCCD_Dataset/BCCD/ImageSets/Main/test.txt\n",
            "Working on the validation file:  /content/BCCD_Dataset/BCCD/ImageSets/Main/val.txt\n",
            "Working on the train file:  /content/BCCD_Dataset/BCCD/ImageSets/Main/train.txt\n"
          ],
          "name": "stdout"
        }
      ]
    },
    {
      "cell_type": "code",
      "metadata": {
        "id": "hH661z7b2z0d",
        "colab": {
          "base_uri": "https://localhost:8080/"
        },
        "outputId": "467477b8-2dea-4f8b-a92a-bf894b006e0a"
      },
      "source": [
        "# Print records count\n",
        "print('Total Training Images: {0}'.format(len(os.listdir(str_Destination_Images_Path + 'train/'))))\n",
        "print('Total Validation Images: {0}'.format(len(os.listdir(str_Destination_Images_Path + 'val/'))))\n",
        "print('Total Test Images: {0}'.format(len(os.listdir(str_Destination_Images_Path + 'test/'))))"
      ],
      "execution_count": 13,
      "outputs": [
        {
          "output_type": "stream",
          "text": [
            "Total Training Images: 205\n",
            "Total Validation Images: 87\n",
            "Total Test Images: 72\n"
          ],
          "name": "stdout"
        }
      ]
    },
    {
      "cell_type": "code",
      "metadata": {
        "id": "JQQ-X7rMv_oj",
        "colab": {
          "base_uri": "https://localhost:8080/"
        },
        "outputId": "9e918e48-b867-48e0-df06-588c83af4ac6"
      },
      "source": [
        "# Check file count in source and destination (ie: in 'train', 'valid' and 'test' folders)\n",
        "print(len(os.listdir(str_Destination_Images_Path + 'train/')) == len(os.listdir(str_Destination_Labels_Path + 'train/')))\n",
        "print(len(os.listdir(str_Destination_Images_Path + 'val/')) == len(os.listdir(str_Destination_Labels_Path + 'val/' )))\n",
        "print(len(os.listdir(str_Destination_Images_Path + 'test/')) == len(os.listdir(str_Destination_Labels_Path + 'test/' )))"
      ],
      "execution_count": 14,
      "outputs": [
        {
          "output_type": "stream",
          "text": [
            "True\n",
            "True\n",
            "True\n"
          ],
          "name": "stdout"
        }
      ]
    },
    {
      "cell_type": "markdown",
      "metadata": {
        "id": "zprNpJO5mlUV"
      },
      "source": [
        "--"
      ]
    },
    {
      "cell_type": "markdown",
      "metadata": {
        "id": "f34pzWxQmoKD"
      },
      "source": [
        "View Sample file"
      ]
    },
    {
      "cell_type": "code",
      "metadata": {
        "execution": {
          "iopub.status.busy": "2021-08-17T08:44:19.146175Z",
          "iopub.execute_input": "2021-08-17T08:44:19.146665Z",
          "iopub.status.idle": "2021-08-17T08:44:19.167939Z",
          "shell.execute_reply.started": "2021-08-17T08:44:19.146620Z",
          "shell.execute_reply": "2021-08-17T08:44:19.166505Z"
        },
        "trusted": true,
        "id": "CimkZRuzaNLx",
        "colab": {
          "base_uri": "https://localhost:8080/"
        },
        "outputId": "f722e59b-0f44-450b-fd3b-98038fac17fb"
      },
      "source": [
        "# Read a sample annotation file. Contents are:  'Class','x','y','W','H '\n",
        "with open ('/content/Dataset/labels/train/BloodImage_00001.txt','r') as annot:\n",
        "    for content in annot:\n",
        "      print(content.rstrip())"
      ],
      "execution_count": 15,
      "outputs": [
        {
          "output_type": "stream",
          "text": [
            "1 0.2765625041211024 0.8281250431900844 0.34062500507570803 0.34375001792795956\n",
            "0 0.6187500092200935 0.8489583776099607 0.15625000232830644 0.19375001010484993\n",
            "0 0.1554687523166649 0.49791669263504446 0.14531250216532499 0.25000001303851604\n",
            "0 0.7695312614669092 0.9166667144745588 0.1359375020256266 0.1666666753590107\n",
            "0 0.788281261746306 0.358333352021873 0.1359375020256266 0.1666666753590107\n",
            "0 0.7773437615833245 0.6979167030658573 0.1359375020256266 0.1666666753590107\n",
            "0 0.7226562607684173 0.693750036181882 0.14218750211875886 0.20833334419876337\n",
            "0 0.5054687575320713 0.8260417097480968 0.14218750211875886 0.22708334517665207\n",
            "0 0.9226562637486495 0.23020834533963352 0.14218750211875886 0.20208334387280047\n",
            "0 0.8289062623516656 0.2906250151572749 0.14218750211875886 0.20208334387280047\n",
            "0 0.6359375094762072 0.44166668970137835 0.09687500144354999 0.17083334224298596\n",
            "0 0.5656250084284693 0.46666669100522995 0.10312500153668225 0.19583334354683757\n",
            "0 0.5453125081257895 0.23645834566559643 0.18125000270083547 0.22708334517665207\n",
            "0 0.5492187581839971 0.07187500374857336 0.16406250244472176 0.13958334061317146\n",
            "0 0.6210937592550181 0.17083334224298596 0.16093750239815563 0.23333334550261497\n",
            "0 0.29296875436557457 0.10000000521540642 0.1671875024912879 0.19583334354683757\n",
            "0 0.07734375115251169 0.210416677640751 0.15156250225845724 0.26250001369044185\n",
            "0 0.3296875049127266 0.44166668970137835 0.14375000214204192 0.2166666779667139\n",
            "0 0.8046875119907781 0.5500000286847353 0.15937500237487257 0.2291666786186397\n"
          ],
          "name": "stdout"
        }
      ]
    },
    {
      "cell_type": "code",
      "metadata": {
        "execution": {
          "iopub.status.busy": "2021-08-17T08:44:19.178539Z",
          "iopub.execute_input": "2021-08-17T08:44:19.178928Z",
          "iopub.status.idle": "2021-08-17T08:44:19.614429Z",
          "shell.execute_reply.started": "2021-08-17T08:44:19.178872Z",
          "shell.execute_reply": "2021-08-17T08:44:19.613403Z"
        },
        "trusted": true,
        "id": "Eq_eeCY4aNL1",
        "colab": {
          "base_uri": "https://localhost:8080/",
          "height": 286
        },
        "outputId": "7dce3376-97e9-4734-8157-2c2b0fab56f7"
      },
      "source": [
        "# View a sample image\n",
        "img = Image.open('/content/Dataset/images/train/BloodImage_00001.jpg')\n",
        "plt.imshow(img)"
      ],
      "execution_count": 16,
      "outputs": [
        {
          "output_type": "execute_result",
          "data": {
            "text/plain": [
              "<matplotlib.image.AxesImage at 0x7f7023c3f450>"
            ]
          },
          "metadata": {},
          "execution_count": 16
        },
        {
          "output_type": "display_data",
          "data": {
            "image/png": "[encoded data removed]",
            "text/plain": [
              "<Figure size 432x288 with 1 Axes>"
            ]
          },
          "metadata": {
            "needs_background": "light"
          }
        }
      ]
    },
    {
      "cell_type": "code",
      "metadata": {
        "id": "kFTwtZqi63rF"
      },
      "source": [
        "# Sample .yaml file for Yolo. Format is:\n",
        "\n",
        "# train: path to train folder containing images\n",
        "# val: path to val folder containing images\n",
        "# nc: the number of classes\n",
        "# names: the names of the classes"
      ],
      "execution_count": 17,
      "outputs": []
    },
    {
      "cell_type": "code",
      "metadata": {
        "id": "LrkSeb7S3tJs",
        "colab": {
          "base_uri": "https://localhost:8080/",
          "height": 35
        },
        "outputId": "3a13697e-fd12-403c-f985-43ae40cfcc38"
      },
      "source": [
        "os.getcwd()"
      ],
      "execution_count": 18,
      "outputs": [
        {
          "output_type": "execute_result",
          "data": {
            "application/vnd.google.colaboratory.intrinsic+json": {
              "type": "string"
            },
            "text/plain": [
              "'/content'"
            ]
          },
          "metadata": {},
          "execution_count": 18
        }
      ]
    },
    {
      "cell_type": "code",
      "metadata": {
        "execution": {
          "iopub.status.busy": "2021-08-17T08:44:31.955595Z",
          "iopub.execute_input": "2021-08-17T08:44:31.956225Z",
          "iopub.status.idle": "2021-08-17T08:44:31.972532Z",
          "shell.execute_reply.started": "2021-08-17T08:44:31.956170Z",
          "shell.execute_reply": "2021-08-17T08:44:31.971530Z"
        },
        "trusted": true,
        "id": "mONmDeW2aNL-"
      },
      "source": [
        "# Create the .yaml file required for Yolo\n",
        "# Since we would be inside Yolo directory, we use '..' to move to parent directory and then into sub directories for images and labels\n",
        "with open(str_Destination_Path + 'dataset.yaml', 'w') as fil:\n",
        "    fil.write(\"train: \" + \"../Dataset/images/train/\\n\")\n",
        "    fil.write(\"val: \" + \"../Dataset/images/val/\\n\")\n",
        "    fil.write(\"\\n\")\n",
        "    fil.write(\"nc: 3\\n\")\n",
        "    fil.write(\"\\n\")\n",
        "    fil.write(\"names: ['RBC', 'WBC', 'Platelets']\")    "
      ],
      "execution_count": 19,
      "outputs": []
    },
    {
      "cell_type": "code",
      "metadata": {
        "execution": {
          "iopub.status.busy": "2021-08-17T08:44:31.973807Z",
          "iopub.execute_input": "2021-08-17T08:44:31.974273Z",
          "iopub.status.idle": "2021-08-17T08:44:53.413934Z",
          "shell.execute_reply.started": "2021-08-17T08:44:31.974216Z",
          "shell.execute_reply": "2021-08-17T08:44:53.412971Z"
        },
        "collapsed": true,
        "jupyter": {
          "outputs_hidden": true
        },
        "trusted": true,
        "id": "jueybSGQaNL_",
        "colab": {
          "base_uri": "https://localhost:8080/"
        },
        "outputId": "abdbca03-4c3b-4271-e09c-6fa55c808731"
      },
      "source": [
        "# Install Yolo 5 and dependencies\n",
        "!git clone https://github.com/ultralytics/yolov5"
      ],
      "execution_count": 20,
      "outputs": [
        {
          "output_type": "stream",
          "text": [
            "Cloning into 'yolov5'...\n",
            "remote: Enumerating objects: 9008, done.\u001b[K\n",
            "remote: Counting objects: 100% (45/45), done.\u001b[K\n",
            "remote: Compressing objects: 100% (31/31), done.\u001b[K\n",
            "remote: Total 9008 (delta 21), reused 28 (delta 14), pack-reused 8963\u001b[K\n",
            "Receiving objects: 100% (9008/9008), 9.46 MiB | 22.26 MiB/s, done.\n",
            "Resolving deltas: 100% (6266/6266), done.\n"
          ],
          "name": "stdout"
        }
      ]
    },
    {
      "cell_type": "code",
      "metadata": {
        "id": "F-v5Kg4EnGgf",
        "colab": {
          "base_uri": "https://localhost:8080/"
        },
        "outputId": "49df08a0-6c71-4e7a-8660-75f352699801"
      },
      "source": [
        "# Change current directory to Yolo5\n",
        "%cd '/content/yolov5'"
      ],
      "execution_count": 21,
      "outputs": [
        {
          "output_type": "stream",
          "text": [
            "/content/yolov5\n"
          ],
          "name": "stdout"
        }
      ]
    },
    {
      "cell_type": "code",
      "metadata": {
        "id": "Inf_71JqnGjW",
        "colab": {
          "base_uri": "https://localhost:8080/"
        },
        "outputId": "78807a58-d0f3-4037-d52b-d5cfa9194c0a"
      },
      "source": [
        "# Install necessary files\n",
        "! pip install -r requirements.txt"
      ],
      "execution_count": 22,
      "outputs": [
        {
          "output_type": "stream",
          "text": [
            "Requirement already satisfied: matplotlib>=3.2.2 in /usr/local/lib/python3.7/dist-packages (from -r requirements.txt (line 4)) (3.2.2)\n",
            "Requirement already satisfied: numpy>=1.18.5 in /usr/local/lib/python3.7/dist-packages (from -r requirements.txt (line 5)) (1.19.5)\n",
            "Requirement already satisfied: opencv-python>=4.1.2 in /usr/local/lib/python3.7/dist-packages (from -r requirements.txt (line 6)) (4.1.2.30)\n",
            "Requirement already satisfied: Pillow in /usr/local/lib/python3.7/dist-packages (from -r requirements.txt (line 7)) (7.1.2)\n",
            "Requirement already satisfied: PyYAML>=5.3.1 in /usr/local/lib/python3.7/dist-packages (from -r requirements.txt (line 8)) (5.4.1)\n",
            "Requirement already satisfied: scipy>=1.4.1 in /usr/local/lib/python3.7/dist-packages (from -r requirements.txt (line 9)) (1.4.1)\n",
            "Requirement already satisfied: torch>=1.7.0 in /usr/local/lib/python3.7/dist-packages (from -r requirements.txt (line 10)) (1.9.0+cu102)\n",
            "Requirement already satisfied: torchvision>=0.8.1 in /usr/local/lib/python3.7/dist-packages (from -r requirements.txt (line 11)) (0.10.0+cu102)\n",
            "Requirement already satisfied: tqdm>=4.41.0 in /usr/local/lib/python3.7/dist-packages (from -r requirements.txt (line 12)) (4.62.0)\n",
            "Requirement already satisfied: tensorboard>=2.4.1 in /usr/local/lib/python3.7/dist-packages (from -r requirements.txt (line 15)) (2.6.0)\n",
            "Requirement already satisfied: seaborn>=0.11.0 in /usr/local/lib/python3.7/dist-packages (from -r requirements.txt (line 19)) (0.11.1)\n",
            "Requirement already satisfied: pandas in /usr/local/lib/python3.7/dist-packages (from -r requirements.txt (line 20)) (1.1.5)\n",
            "Requirement already satisfied: thop in /usr/local/lib/python3.7/dist-packages (from -r requirements.txt (line 32)) (0.0.31.post2005241907)\n",
            "Requirement already satisfied: python-dateutil>=2.1 in /usr/local/lib/python3.7/dist-packages (from matplotlib>=3.2.2->-r requirements.txt (line 4)) (2.8.2)\n",
            "Requirement already satisfied: kiwisolver>=1.0.1 in /usr/local/lib/python3.7/dist-packages (from matplotlib>=3.2.2->-r requirements.txt (line 4)) (1.3.1)\n",
            "Requirement already satisfied: pyparsing!=2.0.4,!=2.1.2,!=2.1.6,>=2.0.1 in /usr/local/lib/python3.7/dist-packages (from matplotlib>=3.2.2->-r requirements.txt (line 4)) (2.4.7)\n",
            "Requirement already satisfied: cycler>=0.10 in /usr/local/lib/python3.7/dist-packages (from matplotlib>=3.2.2->-r requirements.txt (line 4)) (0.10.0)\n",
            "Requirement already satisfied: typing-extensions in /usr/local/lib/python3.7/dist-packages (from torch>=1.7.0->-r requirements.txt (line 10)) (3.7.4.3)\n",
            "Requirement already satisfied: grpcio>=1.24.3 in /usr/local/lib/python3.7/dist-packages (from tensorboard>=2.4.1->-r requirements.txt (line 15)) (1.39.0)\n",
            "Requirement already satisfied: tensorboard-data-server<0.7.0,>=0.6.0 in /usr/local/lib/python3.7/dist-packages (from tensorboard>=2.4.1->-r requirements.txt (line 15)) (0.6.1)\n",
            "Requirement already satisfied: setuptools>=41.0.0 in /usr/local/lib/python3.7/dist-packages (from tensorboard>=2.4.1->-r requirements.txt (line 15)) (57.4.0)\n",
            "Requirement already satisfied: wheel>=0.26 in /usr/local/lib/python3.7/dist-packages (from tensorboard>=2.4.1->-r requirements.txt (line 15)) (0.37.0)\n",
            "Requirement already satisfied: requests<3,>=2.21.0 in /usr/local/lib/python3.7/dist-packages (from tensorboard>=2.4.1->-r requirements.txt (line 15)) (2.23.0)\n",
            "Requirement already satisfied: google-auth-oauthlib<0.5,>=0.4.1 in /usr/local/lib/python3.7/dist-packages (from tensorboard>=2.4.1->-r requirements.txt (line 15)) (0.4.5)\n",
            "Requirement already satisfied: markdown>=2.6.8 in /usr/local/lib/python3.7/dist-packages (from tensorboard>=2.4.1->-r requirements.txt (line 15)) (3.3.4)\n",
            "Requirement already satisfied: tensorboard-plugin-wit>=1.6.0 in /usr/local/lib/python3.7/dist-packages (from tensorboard>=2.4.1->-r requirements.txt (line 15)) (1.8.0)\n",
            "Requirement already satisfied: google-auth<2,>=1.6.3 in /usr/local/lib/python3.7/dist-packages (from tensorboard>=2.4.1->-r requirements.txt (line 15)) (1.34.0)\n",
            "Requirement already satisfied: werkzeug>=0.11.15 in /usr/local/lib/python3.7/dist-packages (from tensorboard>=2.4.1->-r requirements.txt (line 15)) (1.0.1)\n",
            "Requirement already satisfied: absl-py>=0.4 in /usr/local/lib/python3.7/dist-packages (from tensorboard>=2.4.1->-r requirements.txt (line 15)) (0.12.0)\n",
            "Requirement already satisfied: protobuf>=3.6.0 in /usr/local/lib/python3.7/dist-packages (from tensorboard>=2.4.1->-r requirements.txt (line 15)) (3.17.3)\n",
            "Requirement already satisfied: pytz>=2017.2 in /usr/local/lib/python3.7/dist-packages (from pandas->-r requirements.txt (line 20)) (2018.9)\n",
            "Requirement already satisfied: six in /usr/local/lib/python3.7/dist-packages (from absl-py>=0.4->tensorboard>=2.4.1->-r requirements.txt (line 15)) (1.15.0)\n",
            "Requirement already satisfied: cachetools<5.0,>=2.0.0 in /usr/local/lib/python3.7/dist-packages (from google-auth<2,>=1.6.3->tensorboard>=2.4.1->-r requirements.txt (line 15)) (4.2.2)\n",
            "Requirement already satisfied: pyasn1-modules>=0.2.1 in /usr/local/lib/python3.7/dist-packages (from google-auth<2,>=1.6.3->tensorboard>=2.4.1->-r requirements.txt (line 15)) (0.2.8)\n",
            "Requirement already satisfied: rsa<5,>=3.1.4 in /usr/local/lib/python3.7/dist-packages (from google-auth<2,>=1.6.3->tensorboard>=2.4.1->-r requirements.txt (line 15)) (4.7.2)\n",
            "Requirement already satisfied: requests-oauthlib>=0.7.0 in /usr/local/lib/python3.7/dist-packages (from google-auth-oauthlib<0.5,>=0.4.1->tensorboard>=2.4.1->-r requirements.txt (line 15)) (1.3.0)\n",
            "Requirement already satisfied: importlib-metadata in /usr/local/lib/python3.7/dist-packages (from markdown>=2.6.8->tensorboard>=2.4.1->-r requirements.txt (line 15)) (4.6.4)\n",
            "Requirement already satisfied: pyasn1<0.5.0,>=0.4.6 in /usr/local/lib/python3.7/dist-packages (from pyasn1-modules>=0.2.1->google-auth<2,>=1.6.3->tensorboard>=2.4.1->-r requirements.txt (line 15)) (0.4.8)\n",
            "Requirement already satisfied: chardet<4,>=3.0.2 in /usr/local/lib/python3.7/dist-packages (from requests<3,>=2.21.0->tensorboard>=2.4.1->-r requirements.txt (line 15)) (3.0.4)\n",
            "Requirement already satisfied: urllib3!=1.25.0,!=1.25.1,<1.26,>=1.21.1 in /usr/local/lib/python3.7/dist-packages (from requests<3,>=2.21.0->tensorboard>=2.4.1->-r requirements.txt (line 15)) (1.24.3)\n",
            "Requirement already satisfied: idna<3,>=2.5 in /usr/local/lib/python3.7/dist-packages (from requests<3,>=2.21.0->tensorboard>=2.4.1->-r requirements.txt (line 15)) (2.10)\n",
            "Requirement already satisfied: certifi>=2017.4.17 in /usr/local/lib/python3.7/dist-packages (from requests<3,>=2.21.0->tensorboard>=2.4.1->-r requirements.txt (line 15)) (2021.5.30)\n",
            "Requirement already satisfied: oauthlib>=3.0.0 in /usr/local/lib/python3.7/dist-packages (from requests-oauthlib>=0.7.0->google-auth-oauthlib<0.5,>=0.4.1->tensorboard>=2.4.1->-r requirements.txt (line 15)) (3.1.1)\n",
            "Requirement already satisfied: zipp>=0.5 in /usr/local/lib/python3.7/dist-packages (from importlib-metadata->markdown>=2.6.8->tensorboard>=2.4.1->-r requirements.txt (line 15)) (3.5.0)\n"
          ],
          "name": "stdout"
        }
      ]
    },
    {
      "cell_type": "code",
      "metadata": {
        "id": "Y5eep-tEgVmt",
        "colab": {
          "base_uri": "https://localhost:8080/",
          "height": 35
        },
        "outputId": "3687cea2-032d-4106-d472-bb031879fa03"
      },
      "source": [
        "# Move the .yaml file to yolo folder\n",
        "shutil.move(str_Destination_Path + 'dataset.yaml', '/content/yolov5' )"
      ],
      "execution_count": 23,
      "outputs": [
        {
          "output_type": "execute_result",
          "data": {
            "application/vnd.google.colaboratory.intrinsic+json": {
              "type": "string"
            },
            "text/plain": [
              "'/content/yolov5/dataset.yaml'"
            ]
          },
          "metadata": {},
          "execution_count": 23
        }
      ]
    },
    {
      "cell_type": "code",
      "metadata": {
        "id": "nnI9tVjIw9HR",
        "colab": {
          "base_uri": "https://localhost:8080/",
          "height": 35
        },
        "outputId": "95ad7459-2bbe-4a04-dea8-55888919be57"
      },
      "source": [
        "# Weights from https://github.com/ultralytics/yolov5/releasess\n",
        "shutil.copy('/content/gdrive/MyDrive/yolov5s.pt', '/content/yolov5/yolov5s.pt')"
      ],
      "execution_count": 24,
      "outputs": [
        {
          "output_type": "execute_result",
          "data": {
            "application/vnd.google.colaboratory.intrinsic+json": {
              "type": "string"
            },
            "text/plain": [
              "'/content/yolov5/yolov5s.pt'"
            ]
          },
          "metadata": {},
          "execution_count": 24
        }
      ]
    },
    {
      "cell_type": "code",
      "metadata": {
        "id": "Js8iRX9eD26d",
        "colab": {
          "base_uri": "https://localhost:8080/"
        },
        "outputId": "faa2682a-9258-4ae6-c844-cbdb3ac908c3"
      },
      "source": [
        "gc.collect()"
      ],
      "execution_count": 25,
      "outputs": [
        {
          "output_type": "execute_result",
          "data": {
            "text/plain": [
              "272"
            ]
          },
          "metadata": {},
          "execution_count": 25
        }
      ]
    },
    {
      "cell_type": "markdown",
      "metadata": {
        "id": "HFXKXQqa_9fV"
      },
      "source": [
        "--"
      ]
    },
    {
      "cell_type": "markdown",
      "metadata": {
        "id": "wvmNwj6Q_9ld"
      },
      "source": [
        "Train Yolo"
      ]
    },
    {
      "cell_type": "code",
      "metadata": {
        "id": "aRMAjidvf-Tb",
        "colab": {
          "base_uri": "https://localhost:8080/"
        },
        "outputId": "efe6042a-fa7a-4c06-8727-e50206b47580"
      },
      "source": [
        "!python train.py --img 640  --batch 8 --epochs 200 --data dataset.yaml --weights yolov5s.pt  --cache   "
      ],
      "execution_count": null,
      "outputs": [
        {
          "output_type": "stream",
          "text": [
            "\u001b[34m\u001b[1mtrain: \u001b[0mweights=yolov5s.pt, cfg=, data=dataset.yaml, hyp=data/hyps/hyp.scratch.yaml, epochs=200, batch_size=8, imgsz=640, rect=False, resume=False, nosave=False, noval=False, noautoanchor=False, evolve=None, bucket=, cache=ram, image_weights=False, device=, multi_scale=False, single_cls=False, adam=False, sync_bn=False, workers=8, project=runs/train, entity=None, name=exp, exist_ok=False, quad=False, linear_lr=False, label_smoothing=0.0, upload_dataset=False, bbox_interval=-1, save_period=-1, artifact_alias=latest, local_rank=-1, freeze=0\n",
            "\u001b[34m\u001b[1mgithub: \u001b[0mup to date with https://github.com/ultralytics/yolov5 ✅\n",
            "YOLOv5 🚀 v5.0-375-gd1182c4 torch 1.9.0+cu102 CUDA:0 (Tesla K80, 11441.1875MB)\n",
            "\n",
            "\u001b[34m\u001b[1mhyperparameters: \u001b[0mlr0=0.01, lrf=0.2, momentum=0.937, weight_decay=0.0005, warmup_epochs=3.0, warmup_momentum=0.8, warmup_bias_lr=0.1, box=0.05, cls=0.5, cls_pw=1.0, obj=1.0, obj_pw=1.0, iou_t=0.2, anchor_t=4.0, fl_gamma=0.0, hsv_h=0.015, hsv_s=0.7, hsv_v=0.4, degrees=0.0, translate=0.1, scale=0.5, shear=0.0, perspective=0.0, flipud=0.0, fliplr=0.5, mosaic=1.0, mixup=0.0, copy_paste=0.0\n",
            "\u001b[34m\u001b[1mWeights & Biases: \u001b[0mrun 'pip install wandb' to automatically track and visualize YOLOv5 🚀 runs (RECOMMENDED)\n",
            "\u001b[34m\u001b[1mTensorBoard: \u001b[0mStart with 'tensorboard --logdir runs/train', view at http://localhost:6006/\n",
            "Overriding model.yaml nc=80 with nc=3\n",
            "\n",
            "                 from  n    params  module                                  arguments                     \n",
            "  0                -1  1      3520  models.common.Focus                     [3, 32, 3]                    \n",
            "  1                -1  1     18560  models.common.Conv                      [32, 64, 3, 2]                \n",
            "  2                -1  1     18816  models.common.C3                        [64, 64, 1]                   \n",
            "  3                -1  1     73984  models.common.Conv                      [64, 128, 3, 2]               \n",
            "  4                -1  3    156928  models.common.C3                        [128, 128, 3]                 \n",
            "  5                -1  1    295424  models.common.Conv                      [128, 256, 3, 2]              \n",
            "  6                -1  3    625152  models.common.C3                        [256, 256, 3]                 \n",
            "  7                -1  1   1180672  models.common.Conv                      [256, 512, 3, 2]              \n",
            "  8                -1  1    656896  models.common.SPP                       [512, 512, [5, 9, 13]]        \n",
            "  9                -1  1   1182720  models.common.C3                        [512, 512, 1, False]          \n",
            " 10                -1  1    131584  models.common.Conv                      [512, 256, 1, 1]              \n",
            " 11                -1  1         0  torch.nn.modules.upsampling.Upsample    [None, 2, 'nearest']          \n",
            " 12           [-1, 6]  1         0  models.common.Concat                    [1]                           \n",
            " 13                -1  1    361984  models.common.C3                        [512, 256, 1, False]          \n",
            " 14                -1  1     33024  models.common.Conv                      [256, 128, 1, 1]              \n",
            " 15                -1  1         0  torch.nn.modules.upsampling.Upsample    [None, 2, 'nearest']          \n",
            " 16           [-1, 4]  1         0  models.common.Concat                    [1]                           \n",
            " 17                -1  1     90880  models.common.C3                        [256, 128, 1, False]          \n",
            " 18                -1  1    147712  models.common.Conv                      [128, 128, 3, 2]              \n",
            " 19          [-1, 14]  1         0  models.common.Concat                    [1]                           \n",
            " 20                -1  1    296448  models.common.C3                        [256, 256, 1, False]          \n",
            " 21                -1  1    590336  models.common.Conv                      [256, 256, 3, 2]              \n",
            " 22          [-1, 10]  1         0  models.common.Concat                    [1]                           \n",
            " 23                -1  1   1182720  models.common.C3                        [512, 512, 1, False]          \n",
            " 24      [17, 20, 23]  1     21576  models.yolo.Detect                      [3, [[10, 13, 16, 30, 33, 23], [30, 61, 62, 45, 59, 119], [116, 90, 156, 198, 373, 326]], [128, 256, 512]]\n",
            "Model Summary: 283 layers, 7068936 parameters, 7068936 gradients, 16.4 GFLOPs\n",
            "\n",
            "Transferred 356/362 items from yolov5s.pt\n",
            "Scaled weight_decay = 0.0005\n",
            "\u001b[34m\u001b[1moptimizer:\u001b[0m SGD with parameter groups 59 weight, 62 weight (no decay), 62 bias\n",
            "\u001b[34m\u001b[1malbumentations: \u001b[0mversion 1.0.3 required by YOLOv5, but version 0.1.12 is currently installed\n",
            "\u001b[34m\u001b[1mtrain: \u001b[0mScanning '../Dataset/labels/train' images and labels...205 found, 0 missing, 0 empty, 0 corrupted: 100% 205/205 [00:00<00:00, 1617.49it/s]\n",
            "\u001b[34m\u001b[1mtrain: \u001b[0mNew cache created: ../Dataset/labels/train.cache\n",
            "\u001b[34m\u001b[1mtrain: \u001b[0mCaching images (0.2GB ram): 100% 205/205 [00:00<00:00, 289.67it/s]\n",
            "\u001b[34m\u001b[1mval: \u001b[0mScanning '../Dataset/labels/val' images and labels...87 found, 0 missing, 0 empty, 0 corrupted: 100% 87/87 [00:00<00:00, 879.76it/s]\n",
            "\u001b[34m\u001b[1mval: \u001b[0mNew cache created: ../Dataset/labels/val.cache\n",
            "\u001b[34m\u001b[1mval: \u001b[0mCaching images (0.1GB ram): 100% 87/87 [00:00<00:00, 187.59it/s]\n",
            "[W pthreadpool-cpp.cc:90] Warning: Leaking Caffe2 thread-pool after fork. (function pthreadpool)\n",
            "[W pthreadpool-cpp.cc:90] Warning: Leaking Caffe2 thread-pool after fork. (function pthreadpool)\n",
            "Plotting labels... \n",
            "\n",
            "\u001b[34m\u001b[1mautoanchor: \u001b[0mAnalyzing anchors... anchors/target = 5.77, Best Possible Recall (BPR) = 0.9996\n",
            "Image sizes 640 train, 640 val\n",
            "Using 2 dataloader workers\n",
            "Logging results to runs/train/exp\n",
            "Starting training for 200 epochs...\n",
            "\n",
            "     Epoch   gpu_mem       box       obj       cls    labels  img_size\n",
            "     0/199     1.76G    0.1088    0.1544   0.03895       157       640: 100% 26/26 [00:18<00:00,  1.41it/s]\n",
            "               Class     Images     Labels          P          R     mAP@.5 mAP@.5:.95: 100% 6/6 [00:03<00:00,  1.98it/s]\n",
            "                 all         87       1138     0.0144     0.0579    0.00516   0.000794\n",
            "\n",
            "     Epoch   gpu_mem       box       obj       cls    labels  img_size\n",
            "     1/199     1.94G   0.09962    0.1782   0.03477       141       640: 100% 26/26 [00:15<00:00,  1.64it/s]\n",
            "               Class     Images     Labels          P          R     mAP@.5 mAP@.5:.95: 100% 6/6 [00:03<00:00,  1.88it/s]\n",
            "                 all         87       1138     0.0488     0.0897     0.0254     0.0044\n",
            "\n",
            "     Epoch   gpu_mem       box       obj       cls    labels  img_size\n",
            "     2/199     1.94G    0.0924    0.1852   0.03045       111       640: 100% 26/26 [00:15<00:00,  1.63it/s]\n",
            "               Class     Images     Labels          P          R     mAP@.5 mAP@.5:.95: 100% 6/6 [00:04<00:00,  1.45it/s]\n",
            "                 all         87       1138      0.121      0.113     0.0824      0.022\n",
            "\n",
            "     Epoch   gpu_mem       box       obj       cls    labels  img_size\n",
            "     3/199     1.94G   0.08411    0.1626   0.02612       136       640: 100% 26/26 [00:15<00:00,  1.64it/s]\n",
            "               Class     Images     Labels          P          R     mAP@.5 mAP@.5:.95: 100% 6/6 [00:03<00:00,  1.55it/s]\n",
            "                 all         87       1138      0.434      0.162      0.108     0.0324\n",
            "\n",
            "     Epoch   gpu_mem       box       obj       cls    labels  img_size\n",
            "     4/199     1.94G   0.07455    0.1585   0.02217       128       640: 100% 26/26 [00:15<00:00,  1.64it/s]\n",
            "               Class     Images     Labels          P          R     mAP@.5 mAP@.5:.95: 100% 6/6 [00:03<00:00,  1.67it/s]\n",
            "                 all         87       1138      0.843       0.16      0.161      0.062\n",
            "\n",
            "     Epoch   gpu_mem       box       obj       cls    labels  img_size\n",
            "     5/199     1.94G   0.06665    0.1659    0.0194       128       640: 100% 26/26 [00:15<00:00,  1.64it/s]\n",
            "               Class     Images     Labels          P          R     mAP@.5 mAP@.5:.95: 100% 6/6 [00:02<00:00,  2.31it/s]\n",
            "                 all         87       1138      0.863        0.2      0.257      0.111\n",
            "\n",
            "     Epoch   gpu_mem       box       obj       cls    labels  img_size\n",
            "     6/199     1.94G   0.05974    0.1629   0.01732       157       640: 100% 26/26 [00:15<00:00,  1.64it/s]\n",
            "               Class     Images     Labels          P          R     mAP@.5 mAP@.5:.95: 100% 6/6 [00:02<00:00,  2.56it/s]\n",
            "                 all         87       1138      0.644      0.518      0.429      0.191\n",
            "\n",
            "     Epoch   gpu_mem       box       obj       cls    labels  img_size\n",
            "     7/199     1.94G   0.05448    0.1579   0.01592       169       640: 100% 26/26 [00:15<00:00,  1.64it/s]\n",
            "               Class     Images     Labels          P          R     mAP@.5 mAP@.5:.95: 100% 6/6 [00:02<00:00,  2.77it/s]\n",
            "                 all         87       1138      0.747      0.538      0.573      0.251\n",
            "\n",
            "     Epoch   gpu_mem       box       obj       cls    labels  img_size\n",
            "     8/199     1.94G   0.05253    0.1526   0.01515        82       640: 100% 26/26 [00:15<00:00,  1.65it/s]\n",
            "               Class     Images     Labels          P          R     mAP@.5 mAP@.5:.95: 100% 6/6 [00:02<00:00,  2.91it/s]\n",
            "                 all         87       1138      0.673      0.578      0.568      0.239\n",
            "\n",
            "     Epoch   gpu_mem       box       obj       cls    labels  img_size\n",
            "     9/199     1.94G   0.05361    0.1598   0.01358       140       640: 100% 26/26 [00:15<00:00,  1.65it/s]\n",
            "               Class     Images     Labels          P          R     mAP@.5 mAP@.5:.95: 100% 6/6 [00:01<00:00,  3.10it/s]\n",
            "                 all         87       1138      0.416       0.69      0.528      0.235\n",
            "\n",
            "     Epoch   gpu_mem       box       obj       cls    labels  img_size\n",
            "    10/199     1.94G   0.05225     0.154   0.01288       178       640: 100% 26/26 [00:15<00:00,  1.66it/s]\n",
            "               Class     Images     Labels          P          R     mAP@.5 mAP@.5:.95: 100% 6/6 [00:01<00:00,  3.16it/s]\n",
            "                 all         87       1138      0.587      0.725      0.675      0.315\n",
            "\n",
            "     Epoch   gpu_mem       box       obj       cls    labels  img_size\n",
            "    11/199     1.94G   0.05029    0.1616   0.01126       161       640: 100% 26/26 [00:15<00:00,  1.66it/s]\n",
            "               Class     Images     Labels          P          R     mAP@.5 mAP@.5:.95:  50% 3/6 [00:01<00:01,  2.98it/s]"
          ],
          "name": "stdout"
        }
      ]
    },
    {
      "cell_type": "code",
      "metadata": {
        "id": "v4vnGMjmDzY1"
      },
      "source": [
        "gc.collect()                         "
      ],
      "execution_count": null,
      "outputs": []
    },
    {
      "cell_type": "code",
      "metadata": {
        "id": "h7l758t_CbL6"
      },
      "source": [
        "img = Image.open('/content/yolov5/runs/train/exp/train_batch0.jpg')\n",
        "plt.figure(figsize=(20,35))\n",
        "plt.imshow(img)"
      ],
      "execution_count": null,
      "outputs": []
    },
    {
      "cell_type": "markdown",
      "metadata": {
        "id": "2N44KsDfACXV"
      },
      "source": [
        "--"
      ]
    },
    {
      "cell_type": "code",
      "metadata": {
        "id": "GswhDLveC3tO"
      },
      "source": [
        "gc.collect()"
      ],
      "execution_count": null,
      "outputs": []
    },
    {
      "cell_type": "markdown",
      "metadata": {
        "id": "2gv5d3Y2_4gm"
      },
      "source": [
        "Inference using trained Yolo model"
      ]
    },
    {
      "cell_type": "code",
      "metadata": {
        "id": "Tw66MWUsUD1H"
      },
      "source": [
        "!python detect.py --source"
      ],
      "execution_count": null,
      "outputs": []
    },
    {
      "cell_type": "code",
      "metadata": {
        "id": "J4hqZAKalSla"
      },
      "source": [
        "!python detect.py --source  '/content/Dataset/images/test'  --weights \"/content/yolov5/runs/train/exp/weights/best.pt\"   --conf-thres 0.4"
      ],
      "execution_count": null,
      "outputs": []
    },
    {
      "cell_type": "code",
      "metadata": {
        "id": "BpNp1ugSGYI0"
      },
      "source": [
        "img = Image.open('/content/yolov5/runs/detect/exp/BloodImage_00007.jpg')\n",
        "plt.figure(figsize=(10,10))\n",
        "plt.imshow(img)\n",
        "# we can see one 'WBC' and several 'RBC' classes"
      ],
      "execution_count": null,
      "outputs": []
    },
    {
      "cell_type": "code",
      "metadata": {
        "id": "lj62_eoIKGfk"
      },
      "source": [
        "# Understand what the Annotation was, for the test image\n",
        "with open ('/content/Dataset/labels/test/BloodImage_00007.txt','r') as annot:\n",
        "    content = annot.readlines()\n",
        "    print('RBC: ', sum([int(i[0])==0 for i in content]))\n",
        "    print('WBC: ', sum([int(i[0])==1 for i in content]))\n",
        "    print('Platelets: ', sum([int(i[0])==2 for i in content]))\n",
        "\n",
        "# We can see one 'WBC' and several 'RBC' classes      "
      ],
      "execution_count": null,
      "outputs": []
    },
    {
      "cell_type": "code",
      "metadata": {
        "id": "s3P3V9SoKdVE"
      },
      "source": [
        "# Copy best weights to\n",
        "%cp /content/yolov5/runs/train/exp4/weights/best.pt /content/gdrive/MyDrive/Yolo/BCCD/"
      ],
      "execution_count": null,
      "outputs": []
    },
    {
      "cell_type": "code",
      "metadata": {
        "id": "ckzKe-7UFDIM"
      },
      "source": [
        "gc.collect()"
      ],
      "execution_count": null,
      "outputs": []
    },
    {
      "cell_type": "code",
      "metadata": {
        "id": "KmI369rVFGK5"
      },
      "source": [
        ""
      ],
      "execution_count": null,
      "outputs": []
    }
  ]
}